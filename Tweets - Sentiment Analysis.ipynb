{
 "cells": [
  {
   "cell_type": "markdown",
   "id": "df567cd4-c865-405c-852c-cf2f15475fe2",
   "metadata": {},
   "source": [
    "## Tweets - Sentiment Analysis"
   ]
  },
  {
   "cell_type": "code",
   "execution_count": 28,
   "id": "29302b33-3b55-4be3-8fa6-3dafa6742737",
   "metadata": {},
   "outputs": [
    {
     "name": "stderr",
     "output_type": "stream",
     "text": [
      "[nltk_data] Downloading package stopwords to\n",
      "[nltk_data]     /home/patricia/nltk_data...\n",
      "[nltk_data]   Package stopwords is already up-to-date!\n"
     ]
    },
    {
     "data": {
      "text/plain": [
       "True"
      ]
     },
     "execution_count": 28,
     "metadata": {},
     "output_type": "execute_result"
    }
   ],
   "source": [
    "# Import Libraries\n",
    "# basic library\n",
    "import pandas as pd\n",
    "import numpy as np\n",
    "\n",
    "import matplotlib.pyplot as plt\n",
    "import seaborn as sns\n",
    "\n",
    "import re, string\n",
    "import string, subprocess\n",
    "\n",
    "# machine learning library\n",
    "from sklearn.model_selection import train_test_split\n",
    "from sklearn.feature_extraction.text import TfidfVectorizer, CountVectorizer\n",
    "from sklearn.metrics.pairwise import cosine_similarity\n",
    "from sklearn.linear_model import LogisticRegression\n",
    "from sklearn.metrics import accuracy_score\n",
    "\n",
    "# nlp library\n",
    "import nltk\n",
    "from nltk.stem import WordNetLemmatizer\n",
    "from nltk.corpus import stopwords\n",
    "\n",
    "nltk.download(\"stopwords\")"
   ]
  },
  {
   "cell_type": "markdown",
   "id": "71f2118a-a707-441a-a470-6f150cce96b5",
   "metadata": {},
   "source": [
    "## Load the data"
   ]
  },
  {
   "cell_type": "code",
   "execution_count": 4,
   "id": "bb56d0f4-4d35-477f-b7d6-8d9251b94c84",
   "metadata": {},
   "outputs": [
    {
     "name": "stdout",
     "output_type": "stream",
     "text": [
      "<class 'pandas.core.frame.DataFrame'>\n",
      "RangeIndex: 1048575 entries, 0 to 1048574\n",
      "Data columns (total 6 columns):\n",
      " #   Column  Non-Null Count    Dtype \n",
      "---  ------  --------------    ----- \n",
      " 0   Target  1048575 non-null  int64 \n",
      " 1   ID      1048575 non-null  int64 \n",
      " 2   Date    1048575 non-null  object\n",
      " 3   flag    1048575 non-null  object\n",
      " 4   User    1048575 non-null  object\n",
      " 5   Text    1048575 non-null  object\n",
      "dtypes: int64(2), object(4)\n",
      "memory usage: 48.0+ MB\n"
     ]
    }
   ],
   "source": [
    "# read data\n",
    "data = pd.read_csv('./data/tweets.csv', encoding='latin')\n",
    "data.info()"
   ]
  },
  {
   "cell_type": "code",
   "execution_count": 5,
   "id": "0c770a51-a0ec-4f63-8d39-b24086a96020",
   "metadata": {},
   "outputs": [
    {
     "data": {
      "text/plain": [
       "(1048575, 6)"
      ]
     },
     "execution_count": 5,
     "metadata": {},
     "output_type": "execute_result"
    }
   ],
   "source": [
    "# Shape data\n",
    "data.shape"
   ]
  },
  {
   "cell_type": "code",
   "execution_count": 6,
   "id": "9e964f75-7b44-4b6d-9530-4657fb2bb6bd",
   "metadata": {},
   "outputs": [
    {
     "data": {
      "text/plain": [
       "Target\n",
       "0    799999\n",
       "4    248576\n",
       "Name: count, dtype: int64"
      ]
     },
     "execution_count": 6,
     "metadata": {},
     "output_type": "execute_result"
    }
   ],
   "source": [
    "# The number of value count for each target columns\n",
    "data['Target'].value_counts()"
   ]
  },
  {
   "cell_type": "code",
   "execution_count": 7,
   "id": "e62dfe5a-c9be-43a3-83ef-def360ce8953",
   "metadata": {},
   "outputs": [
    {
     "data": {
      "text/plain": [
       "0          0\n",
       "1          0\n",
       "2          0\n",
       "3          0\n",
       "4          0\n",
       "          ..\n",
       "1048570    1\n",
       "1048571    1\n",
       "1048572    1\n",
       "1048573    1\n",
       "1048574    1\n",
       "Name: Target, Length: 1048575, dtype: int64"
      ]
     },
     "execution_count": 7,
     "metadata": {},
     "output_type": "execute_result"
    }
   ],
   "source": [
    "# Replace 4 to 1, 0 -- NEGATIVE TWEET, 1-- POSITIVE TWEET\n",
    "\n",
    "data['Target'] = data['Target'].replace(4, 1)\n",
    "data['Target']"
   ]
  },
  {
   "cell_type": "code",
   "execution_count": 67,
   "id": "48fbe1d6-a7e1-444b-9bfe-64bbf28b27c7",
   "metadata": {},
   "outputs": [
    {
     "data": {
      "text/plain": [
       "Target\n",
       "0    799999\n",
       "1    248576\n",
       "Name: count, dtype: int64"
      ]
     },
     "execution_count": 67,
     "metadata": {},
     "output_type": "execute_result"
    }
   ],
   "source": [
    "data['Target'].value_counts()"
   ]
  },
  {
   "cell_type": "code",
   "execution_count": 68,
   "id": "7ced1e6d-19c9-4414-a4d1-3907fe26aec0",
   "metadata": {},
   "outputs": [
    {
     "name": "stdout",
     "output_type": "stream",
     "text": [
      "<class 'pandas.core.frame.DataFrame'>\n",
      "RangeIndex: 1048575 entries, 0 to 1048574\n",
      "Data columns (total 6 columns):\n",
      " #   Column  Non-Null Count    Dtype \n",
      "---  ------  --------------    ----- \n",
      " 0   Target  1048575 non-null  int64 \n",
      " 1   ID      1048575 non-null  int64 \n",
      " 2   Date    1048575 non-null  object\n",
      " 3   flag    1048575 non-null  object\n",
      " 4   User    1048575 non-null  object\n",
      " 5   Text    1048575 non-null  object\n",
      "dtypes: int64(2), object(4)\n",
      "memory usage: 48.0+ MB\n"
     ]
    }
   ],
   "source": [
    "data.info()"
   ]
  },
  {
   "cell_type": "code",
   "execution_count": 69,
   "id": "41f49a55-96bd-4ed7-867f-dfd0ca73d65e",
   "metadata": {},
   "outputs": [
    {
     "data": {
      "text/plain": [
       "Target    0\n",
       "ID        0\n",
       "Date      0\n",
       "flag      0\n",
       "User      0\n",
       "Text      0\n",
       "dtype: int64"
      ]
     },
     "execution_count": 69,
     "metadata": {},
     "output_type": "execute_result"
    }
   ],
   "source": [
    "# Check the null values there in the dataset.\n",
    "data.isnull().sum()"
   ]
  },
  {
   "cell_type": "markdown",
   "id": "4bd6bf75-a5b0-4114-82a7-2db30d58e61e",
   "metadata": {},
   "source": [
    "# Balancing the dataset."
   ]
  },
  {
   "cell_type": "code",
   "execution_count": 8,
   "id": "504694af-b28a-49b0-b8f3-d163b53c7f98",
   "metadata": {},
   "outputs": [
    {
     "name": "stdout",
     "output_type": "stream",
     "text": [
      "Data Information:\n",
      "<class 'pandas.core.frame.DataFrame'>\n",
      "RangeIndex: 497152 entries, 0 to 497151\n",
      "Data columns (total 6 columns):\n",
      " #   Column  Non-Null Count   Dtype \n",
      "---  ------  --------------   ----- \n",
      " 0   Target  497152 non-null  int64 \n",
      " 1   ID      497152 non-null  int64 \n",
      " 2   Date    497152 non-null  object\n",
      " 3   flag    497152 non-null  object\n",
      " 4   User    497152 non-null  object\n",
      " 5   Text    497152 non-null  object\n",
      "dtypes: int64(2), object(4)\n",
      "memory usage: 22.8+ MB\n",
      "None\n"
     ]
    }
   ],
   "source": [
    "# Balancing the dataset\n",
    "min_count = data['Target'].value_counts().min()\n",
    "min_count\n",
    "balanced_data = pd.concat([data[data['Target'] == target].sample(min_count,replace=False) for target in data['Target'].unique()])\n",
    "data = balanced_data.sample(frac=1).reset_index(drop=True)\n",
    "# Explore data\n",
    "print(\"Data Information:\")\n",
    "print(data.info())"
   ]
  },
  {
   "cell_type": "markdown",
   "id": "c3f3acbc-423e-44b1-ada4-934b179322ec",
   "metadata": {},
   "source": [
    "## Visualization"
   ]
  },
  {
   "cell_type": "code",
   "execution_count": 9,
   "id": "49d24ff7-5d55-435f-9389-f08ecc660b2c",
   "metadata": {},
   "outputs": [
    {
     "data": {
      "image/png": "[encoded data removed]",
      "text/plain": [
       "<Figure size 500x500 with 1 Axes>"
      ]
     },
     "metadata": {},
     "output_type": "display_data"
    }
   ],
   "source": [
    "# Visualize class distribution\n",
    "plt.figure(figsize=(5, 5))\n",
    "sns.countplot(x='Target' , data=data)\n",
    "plt.title('Class Distribution')\n",
    "plt.xlabel('Sentiment')\n",
    "plt.ylabel('Count')\n",
    "plt.show()"
   ]
  },
  {
   "cell_type": "code",
   "execution_count": 10,
   "id": "a0326a9f-78d4-4d90-9479-19b861018fa6",
   "metadata": {},
   "outputs": [
    {
     "data": {
      "image/png": "[encoded data removed]",
      "text/plain": [
       "<Figure size 1000x600 with 1 Axes>"
      ]
     },
     "metadata": {},
     "output_type": "display_data"
    }
   ],
   "source": [
    "# Explore tweet length\n",
    "data['Tweet_Length'] = data['Text'].apply(lambda x: len(x.split()))\n",
    "\n",
    "# Visualize tweet length distribution\n",
    "plt.figure(figsize=(10, 6))\n",
    "sns.histplot(data['Tweet_Length'], bins=30)\n",
    "plt.title('Distribution of Tweet Length')\n",
    "plt.xlabel('Tweet Length')\n",
    "plt.ylabel('Count')\n",
    "plt.show()"
   ]
  },
  {
   "cell_type": "code",
   "execution_count": 11,
   "id": "dc76a6e1-f3bd-41b4-8b8e-366a4c15d1c2",
   "metadata": {},
   "outputs": [],
   "source": [
    "# Explore word frequency\n",
    "all_words = ' '.join(data['Text'])\n",
    "words = all_words.split()\n",
    "word_freq = pd.Series(words).value_counts()"
   ]
  },
  {
   "cell_type": "code",
   "execution_count": 12,
   "id": "cbab474c-a030-4e15-a0ad-22500f1ba773",
   "metadata": {},
   "outputs": [
    {
     "data": {
      "image/png": "[encoded data removed]",
      "text/plain": [
       "<Figure size 1000x600 with 1 Axes>"
      ]
     },
     "metadata": {},
     "output_type": "display_data"
    }
   ],
   "source": [
    "# Visualize top 20 most common words\n",
    "plt.figure(figsize=(10, 6))\n",
    "word_freq[:20].plot(kind='bar')\n",
    "plt.title('Top 20 Most Common Words')\n",
    "plt.xlabel('Word')\n",
    "plt.ylabel('Frequency')\n",
    "plt.xticks(rotation=45)\n",
    "plt.show()"
   ]
  },
  {
   "cell_type": "markdown",
   "id": "cbca7903-4227-440a-94a9-cc5ec57eea1c",
   "metadata": {},
   "source": [
    "## NLP\n",
    "### Clean Text"
   ]
  },
  {
   "cell_type": "code",
   "execution_count": 13,
   "id": "22d72553-a4d6-4dc4-816a-328b0b804d46",
   "metadata": {},
   "outputs": [],
   "source": [
    "def clean_text(text):\n",
    "    '''Make text lowercase, remove text in square brackets,remove links,remove punctuation\n",
    "    and remove words containing numbers.'''\n",
    "    text = str(text).lower()\n",
    "    text = re.sub('\\[.*?\\]', '', text)\n",
    "    text = re.sub('https?://\\S+|www\\.\\S+', '', text)\n",
    "    text = re.sub('<.*?>+', '', text)\n",
    "    text = re.sub('[%s]' % re.escape(string.punctuation), '', text)\n",
    "    text = re.sub('\\n', '', text)\n",
    "    text = re.sub('\\w*\\d\\w*', '', text)\n",
    "    return text"
   ]
  },
  {
   "cell_type": "code",
   "execution_count": 14,
   "id": "dd544206-cf3e-4a09-bc40-ca878a287f2c",
   "metadata": {},
   "outputs": [
    {
     "data": {
      "text/html": [
       "<div>\n",
       "<style scoped>\n",
       "    .dataframe tbody tr th:only-of-type {\n",
       "        vertical-align: middle;\n",
       "    }\n",
       "\n",
       "    .dataframe tbody tr th {\n",
       "        vertical-align: top;\n",
       "    }\n",
       "\n",
       "    .dataframe thead th {\n",
       "        text-align: right;\n",
       "    }\n",
       "</style>\n",
       "<table border=\"1\" class=\"dataframe\">\n",
       "  <thead>\n",
       "    <tr style=\"text-align: right;\">\n",
       "      <th></th>\n",
       "      <th>clean_text</th>\n",
       "    </tr>\n",
       "  </thead>\n",
       "  <tbody>\n",
       "    <tr>\n",
       "      <th>0</th>\n",
       "      <td>iphone sync went bad and erased all the apps o...</td>\n",
       "    </tr>\n",
       "    <tr>\n",
       "      <th>1</th>\n",
       "      <td>swalkingtree hi sequoia  be well</td>\n",
       "    </tr>\n",
       "    <tr>\n",
       "      <th>2</th>\n",
       "      <td>calebftsk wish i was there</td>\n",
       "    </tr>\n",
       "    <tr>\n",
       "      <th>3</th>\n",
       "      <td>xxkalishaxx i fink you should have to make thi...</td>\n",
       "    </tr>\n",
       "    <tr>\n",
       "      <th>4</th>\n",
       "      <td>freshdotdaily i like it</td>\n",
       "    </tr>\n",
       "  </tbody>\n",
       "</table>\n",
       "</div>"
      ],
      "text/plain": [
       "                                          clean_text\n",
       "0  iphone sync went bad and erased all the apps o...\n",
       "1                   swalkingtree hi sequoia  be well\n",
       "2                        calebftsk wish i was there \n",
       "3  xxkalishaxx i fink you should have to make thi...\n",
       "4                           freshdotdaily i like it "
      ]
     },
     "execution_count": 14,
     "metadata": {},
     "output_type": "execute_result"
    }
   ],
   "source": [
    "text = data['Text'].apply(lambda x:clean_text(x))\n",
    "# make dictionary\n",
    "text_ = {'clean_text': text}\n",
    "# make dataframe\n",
    "df_clean_text = pd.DataFrame.from_dict(text_)\n",
    "df_clean_text.head()"
   ]
  },
  {
   "cell_type": "markdown",
   "id": "2272f3b1-af92-4ba9-b10f-7c01fe167a0b",
   "metadata": {},
   "source": [
    "## Tokenization, Stop Words, Stemming"
   ]
  },
  {
   "cell_type": "code",
   "execution_count": 15,
   "id": "c38e4b05-ea2b-4450-9d97-4bc850ffa899",
   "metadata": {},
   "outputs": [],
   "source": [
    "def remove_stopwords(text):\n",
    "    #tokenization words\n",
    "    words = nltk.word_tokenize(text)\n",
    "\n",
    "    # remove meaningless words\n",
    "    stop_words = nltk.corpus.stopwords.words('english')\n",
    "    add_stop_words =    add_stop_words = ['u', 'im', 'um', 'aaaaand', 'aaronrva', 'aaw', 'ï¿½n', 'ï¿½tieï¿½', 'abl', 'abt']\n",
    "    stop_words = stop_words + add_stop_words\n",
    "    filtered_words = [word for word in words if word not in stop_words]\n",
    "    \n",
    "    # streaming word to base vocab\n",
    "    stemmer = nltk.SnowballStemmer(\"english\")\n",
    "    filtered_words = [stemmer.stem(word) for word in filtered_words]\n",
    "    return filtered_words"
   ]
  },
  {
   "cell_type": "code",
   "execution_count": 16,
   "id": "fedf6c1f-8f56-4456-9815-0aa4ade653a7",
   "metadata": {
    "scrolled": true
   },
   "outputs": [
    {
     "data": {
      "text/html": [
       "<div>\n",
       "<style scoped>\n",
       "    .dataframe tbody tr th:only-of-type {\n",
       "        vertical-align: middle;\n",
       "    }\n",
       "\n",
       "    .dataframe tbody tr th {\n",
       "        vertical-align: top;\n",
       "    }\n",
       "\n",
       "    .dataframe thead th {\n",
       "        text-align: right;\n",
       "    }\n",
       "</style>\n",
       "<table border=\"1\" class=\"dataframe\">\n",
       "  <thead>\n",
       "    <tr style=\"text-align: right;\">\n",
       "      <th></th>\n",
       "      <th>Target</th>\n",
       "      <th>ID</th>\n",
       "      <th>Date</th>\n",
       "      <th>flag</th>\n",
       "      <th>User</th>\n",
       "      <th>Text</th>\n",
       "      <th>Tweet_Length</th>\n",
       "      <th>vectors</th>\n",
       "    </tr>\n",
       "  </thead>\n",
       "  <tbody>\n",
       "    <tr>\n",
       "      <th>0</th>\n",
       "      <td>0</td>\n",
       "      <td>1824631318</td>\n",
       "      <td>Sun May 17 02:13:48 PDT 2009</td>\n",
       "      <td>NO_QUERY</td>\n",
       "      <td>hackedunit</td>\n",
       "      <td>iPhone sync went bad and erased all the apps o...</td>\n",
       "      <td>14</td>\n",
       "      <td>[iphon, sync, went, bad, eras, app, except, tw...</td>\n",
       "    </tr>\n",
       "    <tr>\n",
       "      <th>1</th>\n",
       "      <td>1</td>\n",
       "      <td>1836079367</td>\n",
       "      <td>Mon May 18 07:19:52 PDT 2009</td>\n",
       "      <td>NO_QUERY</td>\n",
       "      <td>happyseaurchin</td>\n",
       "      <td>@swalkingtree hi sequoia  be well!</td>\n",
       "      <td>5</td>\n",
       "      <td>[swalkingtre, hi, sequoia, well]</td>\n",
       "    </tr>\n",
       "    <tr>\n",
       "      <th>2</th>\n",
       "      <td>0</td>\n",
       "      <td>2197314092</td>\n",
       "      <td>Tue Jun 16 13:37:21 PDT 2009</td>\n",
       "      <td>NO_QUERY</td>\n",
       "      <td>paulaalorenaa</td>\n",
       "      <td>@CalebFTSK wish I was there</td>\n",
       "      <td>5</td>\n",
       "      <td>[calebftsk, wish]</td>\n",
       "    </tr>\n",
       "    <tr>\n",
       "      <th>3</th>\n",
       "      <td>1</td>\n",
       "      <td>1771137324</td>\n",
       "      <td>Mon May 11 23:18:57 PDT 2009</td>\n",
       "      <td>NO_QUERY</td>\n",
       "      <td>carrot_girl</td>\n",
       "      <td>@xxKalishaxx I fink you should have to make th...</td>\n",
       "      <td>24</td>\n",
       "      <td>[xxkalishaxx, fink, make, boat, see, inconvien...</td>\n",
       "    </tr>\n",
       "    <tr>\n",
       "      <th>4</th>\n",
       "      <td>1</td>\n",
       "      <td>1572844133</td>\n",
       "      <td>Mon Apr 20 22:45:36 PDT 2009</td>\n",
       "      <td>NO_QUERY</td>\n",
       "      <td>Brittistheparty</td>\n",
       "      <td>@Freshdotdaily I like it!</td>\n",
       "      <td>4</td>\n",
       "      <td>[freshdotdaili, like]</td>\n",
       "    </tr>\n",
       "  </tbody>\n",
       "</table>\n",
       "</div>"
      ],
      "text/plain": [
       "   Target          ID                          Date      flag  \\\n",
       "0       0  1824631318  Sun May 17 02:13:48 PDT 2009  NO_QUERY   \n",
       "1       1  1836079367  Mon May 18 07:19:52 PDT 2009  NO_QUERY   \n",
       "2       0  2197314092  Tue Jun 16 13:37:21 PDT 2009  NO_QUERY   \n",
       "3       1  1771137324  Mon May 11 23:18:57 PDT 2009  NO_QUERY   \n",
       "4       1  1572844133  Mon Apr 20 22:45:36 PDT 2009  NO_QUERY   \n",
       "\n",
       "              User                                               Text  \\\n",
       "0       hackedunit  iPhone sync went bad and erased all the apps o...   \n",
       "1   happyseaurchin                 @swalkingtree hi sequoia  be well!   \n",
       "2    paulaalorenaa                       @CalebFTSK wish I was there    \n",
       "3      carrot_girl  @xxKalishaxx I fink you should have to make th...   \n",
       "4  Brittistheparty                         @Freshdotdaily I like it!    \n",
       "\n",
       "   Tweet_Length                                            vectors  \n",
       "0            14  [iphon, sync, went, bad, eras, app, except, tw...  \n",
       "1             5                   [swalkingtre, hi, sequoia, well]  \n",
       "2             5                                  [calebftsk, wish]  \n",
       "3            24  [xxkalishaxx, fink, make, boat, see, inconvien...  \n",
       "4             4                              [freshdotdaili, like]  "
      ]
     },
     "execution_count": 16,
     "metadata": {},
     "output_type": "execute_result"
    }
   ],
   "source": [
    "data['vectors'] = df_clean_text['clean_text'].apply(remove_stopwords)\n",
    "data.head()"
   ]
  },
  {
   "cell_type": "code",
   "execution_count": 18,
   "id": "2230359f-5f6a-478a-9931-5d7938ec7ded",
   "metadata": {},
   "outputs": [],
   "source": [
    "data['Stemmer'] = [' '.join(x) for x in data['vectors']]"
   ]
  },
  {
   "cell_type": "code",
   "execution_count": 19,
   "id": "f6f81abc-8e86-424d-bdd3-75d496219082",
   "metadata": {},
   "outputs": [
    {
     "data": {
      "text/html": [
       "<div>\n",
       "<style scoped>\n",
       "    .dataframe tbody tr th:only-of-type {\n",
       "        vertical-align: middle;\n",
       "    }\n",
       "\n",
       "    .dataframe tbody tr th {\n",
       "        vertical-align: top;\n",
       "    }\n",
       "\n",
       "    .dataframe thead th {\n",
       "        text-align: right;\n",
       "    }\n",
       "</style>\n",
       "<table border=\"1\" class=\"dataframe\">\n",
       "  <thead>\n",
       "    <tr style=\"text-align: right;\">\n",
       "      <th></th>\n",
       "      <th>Target</th>\n",
       "      <th>ID</th>\n",
       "      <th>Date</th>\n",
       "      <th>flag</th>\n",
       "      <th>User</th>\n",
       "      <th>Text</th>\n",
       "      <th>Tweet_Length</th>\n",
       "      <th>vectors</th>\n",
       "      <th>Stemmer</th>\n",
       "    </tr>\n",
       "  </thead>\n",
       "  <tbody>\n",
       "    <tr>\n",
       "      <th>0</th>\n",
       "      <td>0</td>\n",
       "      <td>1824631318</td>\n",
       "      <td>Sun May 17 02:13:48 PDT 2009</td>\n",
       "      <td>NO_QUERY</td>\n",
       "      <td>hackedunit</td>\n",
       "      <td>iPhone sync went bad and erased all the apps o...</td>\n",
       "      <td>14</td>\n",
       "      <td>[iphon, sync, went, bad, eras, app, except, tw...</td>\n",
       "      <td>iphon sync went bad eras app except tweeti</td>\n",
       "    </tr>\n",
       "    <tr>\n",
       "      <th>1</th>\n",
       "      <td>1</td>\n",
       "      <td>1836079367</td>\n",
       "      <td>Mon May 18 07:19:52 PDT 2009</td>\n",
       "      <td>NO_QUERY</td>\n",
       "      <td>happyseaurchin</td>\n",
       "      <td>@swalkingtree hi sequoia  be well!</td>\n",
       "      <td>5</td>\n",
       "      <td>[swalkingtre, hi, sequoia, well]</td>\n",
       "      <td>swalkingtre hi sequoia well</td>\n",
       "    </tr>\n",
       "    <tr>\n",
       "      <th>2</th>\n",
       "      <td>0</td>\n",
       "      <td>2197314092</td>\n",
       "      <td>Tue Jun 16 13:37:21 PDT 2009</td>\n",
       "      <td>NO_QUERY</td>\n",
       "      <td>paulaalorenaa</td>\n",
       "      <td>@CalebFTSK wish I was there</td>\n",
       "      <td>5</td>\n",
       "      <td>[calebftsk, wish]</td>\n",
       "      <td>calebftsk wish</td>\n",
       "    </tr>\n",
       "    <tr>\n",
       "      <th>3</th>\n",
       "      <td>1</td>\n",
       "      <td>1771137324</td>\n",
       "      <td>Mon May 11 23:18:57 PDT 2009</td>\n",
       "      <td>NO_QUERY</td>\n",
       "      <td>carrot_girl</td>\n",
       "      <td>@xxKalishaxx I fink you should have to make th...</td>\n",
       "      <td>24</td>\n",
       "      <td>[xxkalishaxx, fink, make, boat, see, inconvien...</td>\n",
       "      <td>xxkalishaxx fink make boat see inconvient one ...</td>\n",
       "    </tr>\n",
       "    <tr>\n",
       "      <th>4</th>\n",
       "      <td>1</td>\n",
       "      <td>1572844133</td>\n",
       "      <td>Mon Apr 20 22:45:36 PDT 2009</td>\n",
       "      <td>NO_QUERY</td>\n",
       "      <td>Brittistheparty</td>\n",
       "      <td>@Freshdotdaily I like it!</td>\n",
       "      <td>4</td>\n",
       "      <td>[freshdotdaili, like]</td>\n",
       "      <td>freshdotdaili like</td>\n",
       "    </tr>\n",
       "  </tbody>\n",
       "</table>\n",
       "</div>"
      ],
      "text/plain": [
       "   Target          ID                          Date      flag  \\\n",
       "0       0  1824631318  Sun May 17 02:13:48 PDT 2009  NO_QUERY   \n",
       "1       1  1836079367  Mon May 18 07:19:52 PDT 2009  NO_QUERY   \n",
       "2       0  2197314092  Tue Jun 16 13:37:21 PDT 2009  NO_QUERY   \n",
       "3       1  1771137324  Mon May 11 23:18:57 PDT 2009  NO_QUERY   \n",
       "4       1  1572844133  Mon Apr 20 22:45:36 PDT 2009  NO_QUERY   \n",
       "\n",
       "              User                                               Text  \\\n",
       "0       hackedunit  iPhone sync went bad and erased all the apps o...   \n",
       "1   happyseaurchin                 @swalkingtree hi sequoia  be well!   \n",
       "2    paulaalorenaa                       @CalebFTSK wish I was there    \n",
       "3      carrot_girl  @xxKalishaxx I fink you should have to make th...   \n",
       "4  Brittistheparty                         @Freshdotdaily I like it!    \n",
       "\n",
       "   Tweet_Length                                            vectors  \\\n",
       "0            14  [iphon, sync, went, bad, eras, app, except, tw...   \n",
       "1             5                   [swalkingtre, hi, sequoia, well]   \n",
       "2             5                                  [calebftsk, wish]   \n",
       "3            24  [xxkalishaxx, fink, make, boat, see, inconvien...   \n",
       "4             4                              [freshdotdaili, like]   \n",
       "\n",
       "                                             Stemmer  \n",
       "0         iphon sync went bad eras app except tweeti  \n",
       "1                        swalkingtre hi sequoia well  \n",
       "2                                     calebftsk wish  \n",
       "3  xxkalishaxx fink make boat see inconvient one ...  \n",
       "4                                 freshdotdaili like  "
      ]
     },
     "execution_count": 19,
     "metadata": {},
     "output_type": "execute_result"
    }
   ],
   "source": [
    "data.head()"
   ]
  },
  {
   "cell_type": "markdown",
   "id": "edadcd15-5fa0-4530-bb28-79848e1525ab",
   "metadata": {},
   "source": [
    "### Model"
   ]
  },
  {
   "cell_type": "code",
   "execution_count": 21,
   "id": "7b68e4a7-747e-42ad-a61a-7a419b57b43f",
   "metadata": {},
   "outputs": [],
   "source": [
    "# separation\n",
    "X = data['Stemmer'].values\n",
    "Y = data['Target'].values"
   ]
  },
  {
   "cell_type": "code",
   "execution_count": 22,
   "id": "cb42ea80-3916-4d48-a861-5d58484a84a8",
   "metadata": {},
   "outputs": [],
   "source": [
    "#Spitting data to training and test data\n",
    "X_train, X_test, Y_train, Y_test = train_test_split(X, Y, test_size=0.2,stratify=Y, random_state=2)"
   ]
  },
  {
   "cell_type": "code",
   "execution_count": 23,
   "id": "3f7734be-b5c6-4b82-a60f-f704122729e6",
   "metadata": {},
   "outputs": [
    {
     "name": "stdout",
     "output_type": "stream",
     "text": [
      "(497152,) (397721,) (99431,)\n"
     ]
    }
   ],
   "source": [
    "print(X.shape, X_train.shape, X_test.shape)"
   ]
  },
  {
   "cell_type": "code",
   "execution_count": 26,
   "id": "7e3f7987-9c71-4d19-959a-a9794ea886b9",
   "metadata": {},
   "outputs": [],
   "source": [
    "#feature_extraction(text data to numeric data)\n",
    "\n",
    "vectorizer = TfidfVectorizer()\n",
    "\n",
    "X_train = vectorizer.fit_transform(X_train)\n",
    "X_test = vectorizer.transform(X_test)"
   ]
  },
  {
   "cell_type": "code",
   "execution_count": 29,
   "id": "dcec90cf-1595-46b8-922d-33c3fb3ea73a",
   "metadata": {},
   "outputs": [],
   "source": [
    "# Training ML model using Logistic Regression\n",
    "\n",
    "model = LogisticRegression(max_iter=1000)"
   ]
  },
  {
   "cell_type": "code",
   "execution_count": 30,
   "id": "a2c7ec2a-1214-4d33-957f-e540a07ce41d",
   "metadata": {},
   "outputs": [
    {
     "data": {
      "text/html": [
       "<style>#sk-container-id-1 {color: black;}#sk-container-id-1 pre{padding: 0;}#sk-container-id-1 div.sk-toggleable {background-color: white;}#sk-container-id-1 label.sk-toggleable__label {cursor: pointer;display: block;width: 100%;margin-bottom: 0;padding: 0.3em;box-sizing: border-box;text-align: center;}#sk-container-id-1 label.sk-toggleable__label-arrow:before {content: \"▸\";float: left;margin-right: 0.25em;color: #696969;}#sk-container-id-1 label.sk-toggleable__label-arrow:hover:before {color: black;}#sk-container-id-1 div.sk-estimator:hover label.sk-toggleable__label-arrow:before {color: black;}#sk-container-id-1 div.sk-toggleable__content {max-height: 0;max-width: 0;overflow: hidden;text-align: left;background-color: #f0f8ff;}#sk-container-id-1 div.sk-toggleable__content pre {margin: 0.2em;color: black;border-radius: 0.25em;background-color: #f0f8ff;}#sk-container-id-1 input.sk-toggleable__control:checked~div.sk-toggleable__content {max-height: 200px;max-width: 100%;overflow: auto;}#sk-container-id-1 input.sk-toggleable__control:checked~label.sk-toggleable__label-arrow:before {content: \"▾\";}#sk-container-id-1 div.sk-estimator input.sk-toggleable__control:checked~label.sk-toggleable__label {background-color: #d4ebff;}#sk-container-id-1 div.sk-label input.sk-toggleable__control:checked~label.sk-toggleable__label {background-color: #d4ebff;}#sk-container-id-1 input.sk-hidden--visually {border: 0;clip: rect(1px 1px 1px 1px);clip: rect(1px, 1px, 1px, 1px);height: 1px;margin: -1px;overflow: hidden;padding: 0;position: absolute;width: 1px;}#sk-container-id-1 div.sk-estimator {font-family: monospace;background-color: #f0f8ff;border: 1px dotted black;border-radius: 0.25em;box-sizing: border-box;margin-bottom: 0.5em;}#sk-container-id-1 div.sk-estimator:hover {background-color: #d4ebff;}#sk-container-id-1 div.sk-parallel-item::after {content: \"\";width: 100%;border-bottom: 1px solid gray;flex-grow: 1;}#sk-container-id-1 div.sk-label:hover label.sk-toggleable__label {background-color: #d4ebff;}#sk-container-id-1 div.sk-serial::before {content: \"\";position: absolute;border-left: 1px solid gray;box-sizing: border-box;top: 0;bottom: 0;left: 50%;z-index: 0;}#sk-container-id-1 div.sk-serial {display: flex;flex-direction: column;align-items: center;background-color: white;padding-right: 0.2em;padding-left: 0.2em;position: relative;}#sk-container-id-1 div.sk-item {position: relative;z-index: 1;}#sk-container-id-1 div.sk-parallel {display: flex;align-items: stretch;justify-content: center;background-color: white;position: relative;}#sk-container-id-1 div.sk-item::before, #sk-container-id-1 div.sk-parallel-item::before {content: \"\";position: absolute;border-left: 1px solid gray;box-sizing: border-box;top: 0;bottom: 0;left: 50%;z-index: -1;}#sk-container-id-1 div.sk-parallel-item {display: flex;flex-direction: column;z-index: 1;position: relative;background-color: white;}#sk-container-id-1 div.sk-parallel-item:first-child::after {align-self: flex-end;width: 50%;}#sk-container-id-1 div.sk-parallel-item:last-child::after {align-self: flex-start;width: 50%;}#sk-container-id-1 div.sk-parallel-item:only-child::after {width: 0;}#sk-container-id-1 div.sk-dashed-wrapped {border: 1px dashed gray;margin: 0 0.4em 0.5em 0.4em;box-sizing: border-box;padding-bottom: 0.4em;background-color: white;}#sk-container-id-1 div.sk-label label {font-family: monospace;font-weight: bold;display: inline-block;line-height: 1.2em;}#sk-container-id-1 div.sk-label-container {text-align: center;}#sk-container-id-1 div.sk-container {/* jupyter's `normalize.less` sets `[hidden] { display: none; }` but bootstrap.min.css set `[hidden] { display: none !important; }` so we also need the `!important` here to be able to override the default hidden behavior on the sphinx rendered scikit-learn.org. See: https://github.com/scikit-learn/scikit-learn/issues/21755 */display: inline-block !important;position: relative;}#sk-container-id-1 div.sk-text-repr-fallback {display: none;}</style><div id=\"sk-container-id-1\" class=\"sk-top-container\"><div class=\"sk-text-repr-fallback\"><pre>LogisticRegression(max_iter=1000)</pre><b>In a Jupyter environment, please rerun this cell to show the HTML representation or trust the notebook. <br />On GitHub, the HTML representation is unable to render, please try loading this page with nbviewer.org.</b></div><div class=\"sk-container\" hidden><div class=\"sk-item\"><div class=\"sk-estimator sk-toggleable\"><input class=\"sk-toggleable__control sk-hidden--visually\" id=\"sk-estimator-id-1\" type=\"checkbox\" checked><label for=\"sk-estimator-id-1\" class=\"sk-toggleable__label sk-toggleable__label-arrow\">LogisticRegression</label><div class=\"sk-toggleable__content\"><pre>LogisticRegression(max_iter=1000)</pre></div></div></div></div></div>"
      ],
      "text/plain": [
       "LogisticRegression(max_iter=1000)"
      ]
     },
     "execution_count": 30,
     "metadata": {},
     "output_type": "execute_result"
    }
   ],
   "source": [
    "model.fit(X_train, Y_train)"
   ]
  },
  {
   "cell_type": "code",
   "execution_count": 31,
   "id": "5aef8490-3906-4bc4-ad25-5c6c63e7fd0d",
   "metadata": {},
   "outputs": [],
   "source": [
    "#model evaluation (Accuracy Score on training data)\n",
    "\n",
    "X_train_prediction = model.predict(X_train)\n",
    "training_data_accuracy = accuracy_score(Y_train, X_train_prediction)"
   ]
  },
  {
   "cell_type": "code",
   "execution_count": 32,
   "id": "f688c8b7-3cab-4871-a8e6-cb6eef0c22a2",
   "metadata": {},
   "outputs": [
    {
     "name": "stdout",
     "output_type": "stream",
     "text": [
      "Accuracy score on training data :  0.824386944616955\n"
     ]
    }
   ],
   "source": [
    "print('Accuracy score on training data : ' , training_data_accuracy)"
   ]
  },
  {
   "cell_type": "code",
   "execution_count": 33,
   "id": "3a27390e-3674-476e-85c5-54e3ec8ee04a",
   "metadata": {},
   "outputs": [],
   "source": [
    "#model evaluation (Accuracy Score on test data)\n",
    "\n",
    "X_test_prediction = model.predict(X_test)\n",
    "test_data_accuracy = accuracy_score(Y_test, X_test_prediction)"
   ]
  },
  {
   "cell_type": "code",
   "execution_count": 34,
   "id": "96abcf80-f8ac-4b15-881b-8d5e754cd694",
   "metadata": {},
   "outputs": [
    {
     "name": "stdout",
     "output_type": "stream",
     "text": [
      "Accuracy score on test data :  0.7818084903098631\n"
     ]
    }
   ],
   "source": [
    "print('Accuracy score on test data : ' , test_data_accuracy)"
   ]
  }
 ],
 "metadata": {
  "kernelspec": {
   "display_name": "Python 3 (ipykernel)",
   "language": "python",
   "name": "python3"
  },
  "language_info": {
   "codemirror_mode": {
    "name": "ipython",
    "version": 3
   },
   "file_extension": ".py",
   "mimetype": "text/x-python",
   "name": "python",
   "nbconvert_exporter": "python",
   "pygments_lexer": "ipython3",
   "version": "3.8.10"
  }
 },
 "nbformat": 4,
 "nbformat_minor": 5
}
